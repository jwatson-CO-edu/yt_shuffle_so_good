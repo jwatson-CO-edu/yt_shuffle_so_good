{
 "cells": [
  {
   "cell_type": "markdown",
   "id": "43ad7932-f56d-46ca-b671-dec715fa3499",
   "metadata": {},
   "source": [
    "# Sources\n",
    "* https://medium.com/@luca.pasquarelli.villa/spotify-api-get-your-liked-songs-with-python-and-spotipy-175c2310f0c3"
   ]
  },
  {
   "cell_type": "markdown",
   "id": "ed81d429-c7fe-4790-b5ee-ab8ecac54005",
   "metadata": {},
   "source": [
    "# Init"
   ]
  },
  {
   "cell_type": "code",
   "execution_count": 5,
   "id": "20d63075-f945-4882-87cb-f34c30c3f183",
   "metadata": {},
   "outputs": [
    {
     "name": "stdout",
     "output_type": "stream",
     "text": [
      "None\n"
     ]
    },
    {
     "name": "stdin",
     "output_type": "stream",
     "text": [
      "Enter the URL you were redirected to:  https://github.com/jwatson-CO-edu/yt_shuffle_so_good?code=AQC5hDmOU0K-nhtEKdfFoIZ2pKKtOG17Jcse2GhCJhmNcrPcQDqBGEhPwTn3l65Tm6AS7S3-ljbAIX_YPDxDln8TsSxcT3AL-fHGTxXgFFjVCExf9qu_9_J1gvWHuhnx8yW5eo4hIsxxkgwYcqs8IIeAOY3cDXNt-JN-6FLg451BjB44mjXWIqjgfaVRrIyT1xRYIpovx3AFHAebEZm9yIE1J2RrMHZ90_4K\n"
     ]
    }
   ],
   "source": [
    "import spotipy\n",
    "import spotipy.util as util\n",
    "import os\n",
    "\n",
    "CLIENT_ID     = \"\"\n",
    "CLIENT_SECRET = \"\"\n",
    "USER_NAME     = \"31ytgsr7wdmiaroy77msqpiupdsi\"\n",
    "REDIR_URI     = \"https://github.com/jwatson-CO-edu/yt_shuffle_so_good\"\n",
    "AUTH_URL      = 'https://accounts.spotify.com/api/token'\n",
    "BASE_URL      = 'https://api.spotify.com/v1/'\n",
    "\n",
    "with open( \"../keys/spot_ID.txt\" , 'r' ) as f:\n",
    "    CLIENT_ID = f.readlines()[0].strip()\n",
    "\n",
    "with open( \"../keys/spot_SECRET.txt\" , 'r' ) as f:\n",
    "    CLIENT_SECRET = f.readlines()[0].strip()\n",
    "\n",
    "# client_id     = os.environ.get('CLIENT_ID')\n",
    "# client_secret = os.environ.get('CLIENT_SECRET')\n",
    "redirect_uri  = os.environ.get( 'REDIRECT_URI' )\n",
    "print( redirect_uri )\n",
    "\n",
    "scope    = 'user-library-read'\n",
    "username = USER_NAME\n",
    "\n",
    "token = util.prompt_for_user_token( username,\n",
    "                                    scope,\n",
    "                                    client_id     = CLIENT_ID,\n",
    "                                    client_secret = CLIENT_SECRET,\n",
    "                                    redirect_uri  = REDIR_URI )"
   ]
  },
  {
   "cell_type": "code",
   "execution_count": 6,
   "id": "fab0538d-22a9-484f-af05-27e32672be8c",
   "metadata": {},
   "outputs": [
    {
     "name": "stdout",
     "output_type": "stream",
     "text": [
      "<class 'str'>\n"
     ]
    }
   ],
   "source": [
    "print(type(token))"
   ]
  },
  {
   "cell_type": "code",
   "execution_count": null,
   "id": "e2ae0b6e-71af-4c7b-9f0d-be2b90f4658e",
   "metadata": {},
   "outputs": [],
   "source": []
  }
 ],
 "metadata": {
  "kernelspec": {
   "display_name": "Python 3 (ipykernel)",
   "language": "python",
   "name": "python3"
  },
  "language_info": {
   "codemirror_mode": {
    "name": "ipython",
    "version": 3
   },
   "file_extension": ".py",
   "mimetype": "text/x-python",
   "name": "python",
   "nbconvert_exporter": "python",
   "pygments_lexer": "ipython3",
   "version": "3.9.18"
  }
 },
 "nbformat": 4,
 "nbformat_minor": 5
}
