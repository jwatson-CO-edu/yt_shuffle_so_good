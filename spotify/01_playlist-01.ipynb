{
 "cells": [
  {
   "cell_type": "markdown",
   "id": "54cb7e46-c066-45d5-885e-70236b370c72",
   "metadata": {},
   "source": [
    "# Init + Auth"
   ]
  },
  {
   "cell_type": "code",
   "execution_count": 1,
   "id": "358332b4-6529-4647-9994-ddf7882eaaed",
   "metadata": {},
   "outputs": [],
   "source": [
    "import requests\n",
    "from pprint import pprint"
   ]
  },
  {
   "cell_type": "code",
   "execution_count": 2,
   "id": "c2d099cf-9c99-4427-949f-27455c3ead74",
   "metadata": {},
   "outputs": [],
   "source": [
    "AUTH_URL      = 'https://accounts.spotify.com/api/token'\n",
    "BASE_URL      = 'https://api.spotify.com/v1/'\n",
    "\n",
    "def get_spotify_access_token( authURL = AUTH_URL ):\n",
    "    \"\"\" Get token from Spotify to allow API calls \"\"\"\n",
    "    # Original Author: https://stmorse.github.io/journal/spotify-api.html\n",
    "    CLIENT_ID     = \"\"\n",
    "    CLIENT_SECRET = \"\"\n",
    "\n",
    "    with open( \"../keys/spot_ID.txt\" , 'r' ) as f:\n",
    "        CLIENT_ID = f.readlines()[0].strip()\n",
    "    \n",
    "    with open( \"../keys/spot_SECRET.txt\" , 'r' ) as f:\n",
    "        CLIENT_SECRET = f.readlines()[0].strip()\n",
    "    \n",
    "    if len( CLIENT_ID ) and len( CLIENT_SECRET ):\n",
    "        print( \"Authorization strings have been obtained!\" )\n",
    "    else:\n",
    "        print( \"Auth info is MISSING!\" )\n",
    "\n",
    "    # POST\n",
    "    auth_response = requests.post( authURL, {\n",
    "        'grant_type': 'client_credentials',\n",
    "        'client_id': CLIENT_ID,\n",
    "        'client_secret': CLIENT_SECRET,\n",
    "    })\n",
    "    auth_response_data = auth_response.json()\n",
    "    access_token       = auth_response_data['access_token']\n",
    "    return access_token\n",
    "\n",
    "def get_headers( access_token ):\n",
    "    \"\"\" Get header struct for Spotify API calls \"\"\"\n",
    "    return { 'Authorization': 'Bearer {token}'.format( token = access_token ) }"
   ]
  },
  {
   "cell_type": "code",
   "execution_count": null,
   "id": "d1bcfa91-3bbc-4046-a33d-65392ce9b05e",
   "metadata": {},
   "outputs": [],
   "source": [
    "access_token = get_spotify_access_token()"
   ]
  },
  {
   "cell_type": "markdown",
   "id": "4e8532d7-c062-442c-8c0e-5a4d89c14a0f",
   "metadata": {},
   "source": [
    "# Get Playlist Items"
   ]
  },
  {
   "cell_type": "code",
   "execution_count": null,
   "id": "deda3b06-3b4a-418f-b918-dfbe8ecb4105",
   "metadata": {},
   "outputs": [],
   "source": [
    "playlist_id  = '6KI7A4MWrSM7EyKRUjxIi1'\n",
    "response = requests.get( BASE_URL + 'playlists/' + playlist_id + '/tracks/', headers = get_headers( access_token ) )\n",
    "response = response.json()"
   ]
  },
  {
   "cell_type": "code",
   "execution_count": 6,
   "id": "578c277d-e69b-4c3f-8321-cfaa5c5f41d4",
   "metadata": {},
   "outputs": [
    {
     "name": "stdout",
     "output_type": "stream",
     "text": [
      "href : <class 'str'>\n",
      "items : <class 'list'>\n",
      "limit : <class 'int'>\n",
      "next : <class 'str'>\n",
      "offset : <class 'int'>\n",
      "previous : <class 'NoneType'>\n",
      "total : <class 'int'>\n"
     ]
    }
   ],
   "source": [
    "for key, val in response.items():\n",
    "    print( key, ':', type( val ) )"
   ]
  },
  {
   "cell_type": "code",
   "execution_count": 10,
   "id": "48a49856-1da1-4695-90e9-39b05216935b",
   "metadata": {},
   "outputs": [
    {
     "name": "stdout",
     "output_type": "stream",
     "text": [
      "Limit: 100, Offset: 100, Total: 100, Length: 100\n",
      "https://api.spotify.com/v1/playlists/6KI7A4MWrSM7EyKRUjxIi1/tracks?offset=100&limit=100\n"
     ]
    }
   ],
   "source": [
    "print( f\"Limit: {response['limit']}, Offset: {response['limit']}, Total: {response['limit']}, Length: {len(response['items'])}\" )\n",
    "print( response['next'] )"
   ]
  },
  {
   "cell_type": "code",
   "execution_count": 15,
   "id": "e9852a92-ead4-4318-9bbc-1ea7c826c381",
   "metadata": {},
   "outputs": [
    {
     "name": "stdout",
     "output_type": "stream",
     "text": [
      "Retrieved 426 playlist items!\n"
     ]
    }
   ],
   "source": [
    "playlist_id  = '6KI7A4MWrSM7EyKRUjxIi1'\n",
    "initURL      = BASE_URL + 'playlists/' + playlist_id + '/tracks/'\n",
    "response     = requests.get( initURL, headers = get_headers( access_token ) ).json()\n",
    "nextURL      = response['next']\n",
    "playlistItms = response['items'][:]\n",
    "while nextURL is not None:\n",
    "    response = requests.get( nextURL, headers = get_headers( access_token ) ).json()\n",
    "    nextURL  = response['next']\n",
    "    playlistItms.extend( response['items'] )\n",
    "\n",
    "print( f\"Retrieved {len(playlistItms)} playlist items!\" )\n",
    "    \n",
    "\n",
    "\n"
   ]
  },
  {
   "cell_type": "markdown",
   "id": "7a053209-d7ef-4624-83b3-7591b5df482a",
   "metadata": {},
   "source": [
    "# Reorder Items"
   ]
  },
  {
   "cell_type": "code",
   "execution_count": null,
   "id": "9f7dbe03-d88c-4621-bbc8-c6bf59a47422",
   "metadata": {},
   "outputs": [],
   "source": [
    "# FIXME, START HERE: https://developer.spotify.com/documentation/web-api/reference/reorder-or-replace-playlists-tracks"
   ]
  },
  {
   "cell_type": "code",
   "execution_count": null,
   "id": "175c0e46-7553-4aea-ac9c-7d13849e277b",
   "metadata": {},
   "outputs": [],
   "source": []
  },
  {
   "cell_type": "code",
   "execution_count": null,
   "id": "0085c70b-78a5-42f0-bd7a-96e56691dea7",
   "metadata": {},
   "outputs": [],
   "source": []
  }
 ],
 "metadata": {
  "kernelspec": {
   "display_name": "Python 3 (ipykernel)",
   "language": "python",
   "name": "python3"
  },
  "language_info": {
   "codemirror_mode": {
    "name": "ipython",
    "version": 3
   },
   "file_extension": ".py",
   "mimetype": "text/x-python",
   "name": "python",
   "nbconvert_exporter": "python",
   "pygments_lexer": "ipython3",
   "version": "3.9.18"
  }
 },
 "nbformat": 4,
 "nbformat_minor": 5
}
