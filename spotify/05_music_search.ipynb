{
 "cells": [
  {
   "cell_type": "markdown",
   "id": "e0f39117-48a7-4c24-8e7d-7a7c561bb53e",
   "metadata": {},
   "source": [
    "# Init & Login"
   ]
  },
  {
   "cell_type": "code",
   "execution_count": 1,
   "id": "021216f0-751d-42c6-a049-0166f0eea696",
   "metadata": {},
   "outputs": [
    {
     "name": "stdout",
     "output_type": "stream",
     "text": [
      "TOKEN OBTAINED\n"
     ]
    }
   ],
   "source": [
    "from math import ceil\n",
    "from random import randrange\n",
    "from time import sleep\n",
    "from pprint import pprint\n",
    "\n",
    "import spotipy\n",
    "import spotipy.util as util\n",
    "from IPython.display import clear_output\n",
    "\n",
    "## Client Info ##\n",
    "CLIENT_ID     = \"\"\n",
    "CLIENT_SECRET = \"\"\n",
    "CLIENT_SCOPE  = \"user-follow-modify playlist-modify-private playlist-modify-public\"\n",
    "USER_NAME     = \"31ytgsr7wdmiaroy77msqpiupdsi\"\n",
    "REDIR_URI     = \"https://github.com/jwatson-CO-edu/yt_shuffle_so_good\"\n",
    "AUTH_URL      = 'https://accounts.spotify.com/api/token'\n",
    "BASE_URL      = 'https://api.spotify.com/v1/'\n",
    "## API Info ##\n",
    "_RESPONSE_LIMIT = 100\n",
    "\n",
    "with open( \"../keys/spot_ID.txt\" , 'r' ) as f:\n",
    "    CLIENT_ID = f.readlines()[0].strip()\n",
    "\n",
    "with open( \"../keys/spot_SECRET.txt\" , 'r' ) as f:\n",
    "    CLIENT_SECRET = f.readlines()[0].strip()\n",
    "\n",
    "token = None\n",
    "token = util.prompt_for_user_token(\n",
    "    username      = USER_NAME,\n",
    "    scope         = CLIENT_SCOPE,\n",
    "    client_id     = CLIENT_ID,\n",
    "    client_secret = CLIENT_SECRET,\n",
    "    redirect_uri  = REDIR_URI\n",
    ")\n",
    "\n",
    "print( token )\n",
    "\n",
    "spot = spotipy.Spotify( auth = token )\n",
    "clear_output( wait = True )\n",
    "sleep( 2 )\n",
    "print( \"TOKEN OBTAINED\" )"
   ]
  },
  {
   "cell_type": "markdown",
   "id": "ed4d1583-abb2-4c30-af15-f43082b839ee",
   "metadata": {},
   "source": [
    "# Playlists"
   ]
  },
  {
   "cell_type": "code",
   "execution_count": 2,
   "id": "93ad3b37-1ec4-474d-adfc-fcad78f6f6c5",
   "metadata": {},
   "outputs": [],
   "source": [
    "\n",
    "playlist = {\n",
    "    'study01' : \"0a2qoe6S7lYeZ6nlhZdA0v\",\n",
    "    'study02' : \"6gbtR2cBq5PvkghidCvvGk\",\n",
    "    'study03' : \"3o3lN2qntdEV7UKTuuC77K\",\n",
    "    'study04' : \"41sFSisljvBDMBXtpp5NIw\",\n",
    "    'study05' : \"02iS5AFGp8YVuUUqcQf8ys\",\n",
    "    'study06' : \"6KI7A4MWrSM7EyKRUjxIi1\",\n",
    "    'study07' : \"3V055Md2JdrUT8tX0af7di\",\n",
    "    'study08' : \"0tspdJlwSgiyf2O9PO6QaP\",\n",
    "    'study09' : \"5mHRBFoQtYy2izeZ66pG95\",\n",
    "    'study10' : \"3832xeKGEOAXFJqE4K8kIq\",\n",
    "    'study11' : \"65MXR4dubPL9t0P4dgTWvn\",\n",
    "    'study12' : \"0ecSAfnD4CulIVnLt26ukI\",\n",
    "    'study13' : \"7K9ucByFRgDuZk8KMHeJkL\",\n",
    "}\n",
    "\n",
    "backfill = \"0v26bHydUxcGC5EbMlkjzG\"\n",
    "_N_BKFL  = 400\n"
   ]
  },
  {
   "cell_type": "markdown",
   "id": "9857e3ff-a087-4b18-933b-58398c97b3c6",
   "metadata": {},
   "source": [
    "# Data"
   ]
  },
  {
   "cell_type": "code",
   "execution_count": null,
   "id": "c13120a9-81f1-4e7a-a86e-ee7112d4247f",
   "metadata": {},
   "outputs": [],
   "source": [
    "data = {\n",
    "    'playlists': dict() , # Study Playlist Info\n",
    "    'collectID': set([]), # Currently accepted track IDs\n",
    "    'artists'  : dict() , # Study Artist Info\n",
    "    'genres'   : dict() , # Study Genre Info\n",
    "}"
   ]
  },
  {
   "cell_type": "code",
   "execution_count": null,
   "id": "cb93c3be-c21a-4053-b425-c8e6a8e19cf4",
   "metadata": {},
   "outputs": [],
   "source": []
  },
  {
   "cell_type": "code",
   "execution_count": null,
   "id": "eb557d50-fe23-44d5-b919-65d3f68ae5ea",
   "metadata": {},
   "outputs": [],
   "source": []
  },
  {
   "cell_type": "code",
   "execution_count": null,
   "id": "301c30f0-0f7a-4b1b-9a0f-b96a26a2c27f",
   "metadata": {},
   "outputs": [],
   "source": []
  }
 ],
 "metadata": {
  "kernelspec": {
   "display_name": "Python 3 (ipykernel)",
   "language": "python",
   "name": "python3"
  },
  "language_info": {
   "codemirror_mode": {
    "name": "ipython",
    "version": 3
   },
   "file_extension": ".py",
   "mimetype": "text/x-python",
   "name": "python",
   "nbconvert_exporter": "python",
   "pygments_lexer": "ipython3",
   "version": "3.9.19"
  }
 },
 "nbformat": 4,
 "nbformat_minor": 5
}
