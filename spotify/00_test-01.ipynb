{
 "cells": [
  {
   "cell_type": "markdown",
   "id": "fc853a17-bd0e-4a65-9911-c68d77547422",
   "metadata": {},
   "source": [
    "# Init + Auth"
   ]
  },
  {
   "cell_type": "code",
   "execution_count": 1,
   "id": "89e7df9c-5a76-4ffb-96a4-c6a70ed6d0e9",
   "metadata": {},
   "outputs": [],
   "source": [
    "import requests\n",
    "from pprint import pprint"
   ]
  },
  {
   "cell_type": "code",
   "execution_count": 2,
   "id": "1448e970-a763-456f-a798-7916fc7b28d8",
   "metadata": {},
   "outputs": [
    {
     "name": "stdout",
     "output_type": "stream",
     "text": [
      "Authorization strings have been obtained!\n"
     ]
    }
   ],
   "source": [
    "CLIENT_ID     = \"\"\n",
    "CLIENT_SECRET = \"\"\n",
    "AUTH_URL      = 'https://accounts.spotify.com/api/token'\n",
    "BASE_URL      = 'https://api.spotify.com/v1/'\n",
    "\n",
    "with open( \"../keys/spot_ID.txt\" , 'r' ) as f:\n",
    "    CLIENT_ID = f.readlines()[0].strip()\n",
    "\n",
    "with open( \"../keys/spot_SECRET.txt\" , 'r' ) as f:\n",
    "    CLIENT_SECRET = f.readlines()[0].strip()\n",
    "\n",
    "if len( CLIENT_ID ) and len( CLIENT_SECRET ):\n",
    "    print( \"Authorization strings have been obtained!\" )\n",
    "else:\n",
    "    print( \"Auth info is MISSING!\" )"
   ]
  },
  {
   "cell_type": "code",
   "execution_count": 3,
   "id": "045a271b-1a07-4510-be52-2c5ba610f35a",
   "metadata": {},
   "outputs": [],
   "source": [
    "# POST\n",
    "auth_response = requests.post( AUTH_URL, {\n",
    "    'grant_type': 'client_credentials',\n",
    "    'client_id': CLIENT_ID,\n",
    "    'client_secret': CLIENT_SECRET,\n",
    "})\n",
    "auth_response_data = auth_response.json()\n",
    "access_token       = auth_response_data['access_token']"
   ]
  },
  {
   "cell_type": "markdown",
   "id": "15b460da-b9ff-410b-8a6a-2f7e8411c4a9",
   "metadata": {},
   "source": [
    "# Examples  \n",
    "https://stmorse.github.io/journal/spotify-api.html"
   ]
  },
  {
   "cell_type": "markdown",
   "id": "32b6efce-f122-4209-baca-91f625022f7e",
   "metadata": {},
   "source": [
    "## Track Metadata"
   ]
  },
  {
   "cell_type": "code",
   "execution_count": 5,
   "id": "0c6d2448-6904-4270-acf5-5467b11b9c35",
   "metadata": {},
   "outputs": [],
   "source": [
    "headers = { 'Authorization': 'Bearer {token}'.format(token=access_token) }\n",
    "track_id = '6y0igZArWVi6Iz0rj35c1Y'\n",
    "response = requests.get( BASE_URL + 'audio-features/' + track_id, headers = headers )\n",
    "response = response.json()"
   ]
  },
  {
   "cell_type": "code",
   "execution_count": 6,
   "id": "ba287b76-f0db-44c0-a22b-484852727b74",
   "metadata": {},
   "outputs": [
    {
     "name": "stdout",
     "output_type": "stream",
     "text": [
      "{'acousticness': 0.446,\n",
      " 'analysis_url': 'https://api.spotify.com/v1/audio-analysis/6y0igZArWVi6Iz0rj35c1Y',\n",
      " 'danceability': 0.54,\n",
      " 'duration_ms': 234910,\n",
      " 'energy': 0.59,\n",
      " 'id': '6y0igZArWVi6Iz0rj35c1Y',\n",
      " 'instrumentalness': 0,\n",
      " 'key': 0,\n",
      " 'liveness': 0.14,\n",
      " 'loudness': -4.359,\n",
      " 'mode': 1,\n",
      " 'speechiness': 0.0528,\n",
      " 'tempo': 119.878,\n",
      " 'time_signature': 4,\n",
      " 'track_href': 'https://api.spotify.com/v1/tracks/6y0igZArWVi6Iz0rj35c1Y',\n",
      " 'type': 'audio_features',\n",
      " 'uri': 'spotify:track:6y0igZArWVi6Iz0rj35c1Y',\n",
      " 'valence': 0.267}\n"
     ]
    }
   ],
   "source": [
    "pprint( response )"
   ]
  },
  {
   "cell_type": "markdown",
   "id": "c043c8ba-3971-4baf-921c-7017b358f158",
   "metadata": {},
   "source": [
    "## Get Albums by Artist"
   ]
  },
  {
   "cell_type": "code",
   "execution_count": null,
   "id": "8edf9844-b03e-4f73-b8b2-f7951f0cef5e",
   "metadata": {},
   "outputs": [],
   "source": []
  },
  {
   "cell_type": "code",
   "execution_count": null,
   "id": "98f6e699-e659-4c6d-9a83-c21483fb9dec",
   "metadata": {},
   "outputs": [],
   "source": []
  },
  {
   "cell_type": "code",
   "execution_count": null,
   "id": "0a05f179-364d-41c4-a406-fce7c5ba1931",
   "metadata": {},
   "outputs": [],
   "source": []
  },
  {
   "cell_type": "code",
   "execution_count": null,
   "id": "ddaba161-2957-41fa-bd0f-3bb31c51ddb7",
   "metadata": {},
   "outputs": [],
   "source": []
  },
  {
   "cell_type": "code",
   "execution_count": null,
   "id": "59eaf81b-4e25-4eaf-ac07-125d196bcded",
   "metadata": {},
   "outputs": [],
   "source": []
  }
 ],
 "metadata": {
  "kernelspec": {
   "display_name": "Python 3 (ipykernel)",
   "language": "python",
   "name": "python3"
  },
  "language_info": {
   "codemirror_mode": {
    "name": "ipython",
    "version": 3
   },
   "file_extension": ".py",
   "mimetype": "text/x-python",
   "name": "python",
   "nbconvert_exporter": "python",
   "pygments_lexer": "ipython3",
   "version": "3.9.18"
  }
 },
 "nbformat": 4,
 "nbformat_minor": 5
}
